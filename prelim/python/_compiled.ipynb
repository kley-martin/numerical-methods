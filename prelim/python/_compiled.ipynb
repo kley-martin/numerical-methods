{
 "cells": [
  {
   "cell_type": "code",
   "execution_count": 1,
   "metadata": {},
   "outputs": [
    {
     "name": "stdout",
     "output_type": "stream",
     "text": [
      "iter  Xl            F(Xl)         Xu            F(Xu)         Xr            F(Xr)         Ea            \n",
      "1     1.000000      -1.000000     2.000000      1.000000      1.500000      -0.250000     100.000000%   \n",
      "2     1.500000      -0.250000     2.000000      1.000000      1.750000      0.312500      14.285714%    \n",
      "3     1.500000      -0.250000     1.750000      0.312500      1.625000      0.015625      7.692308%     \n",
      "4     1.500000      -0.250000     1.625000      0.015625      1.562500      -0.121094     4.000000%     \n",
      "5     1.562500      -0.121094     1.625000      0.015625      1.593750      -0.053711     1.960784%     \n",
      "6     1.593750      -0.053711     1.625000      0.015625      1.609375      -0.019287     0.970874%     \n"
     ]
    }
   ],
   "source": [
    "# Bisection\n",
    "\n",
    "# configs\n",
    "max_iter = 20       # maximum iterations\n",
    "\n",
    "\n",
    "# parameters\n",
    "xl = 1              # lower bound\n",
    "xu = 2              # upper bound\n",
    "ea_lim = .01        # approx error limit\n",
    "\n",
    "def f(x):\n",
    "    return x**2 - x - 1\n",
    "\n",
    "\n",
    "# validate and fix parameters\n",
    "if f(xu)*f(xl) >= 0:\n",
    "    print(\"Upper Xu and Lower Xl invalid. F(Xu) and F(Xl) should result in a positive and negative respectively.\")\n",
    "    print(\"F(Xl) = \" + str(f(xl)))\n",
    "    print(\"F(Xu) = \" + str(f(xu)))\n",
    "\n",
    "# if f(xu) > f()\n",
    "\n",
    "# algorithm\n",
    "xr = 0\n",
    "xr_old = 0\n",
    "ea = 1\n",
    "\n",
    "print(\"{0:<6}{1:<14}{2:<14}{3:<14}{4:<14}{5:<14}{6:<14}{7:<14}\".format(\"iter\", \"Xl\", \"F(Xl)\", \"Xu\", \"F(Xu)\", \"Xr\", \"F(Xr)\", \"Ea\"))\n",
    "\n",
    "for i in range(1, max_iter+1):\n",
    "    xr_old = xr\n",
    "    xr = (xl+xu)/2\n",
    "    if i > 1:\n",
    "        ea = abs((xr - xr_old) / xr)\n",
    "\n",
    "    print(\"{0:<6}{1:<14.6f}{2:<14.6f}{3:<14.6f}{4:<14.6f}{5:<14.6f}{6:<14.6f}{7:<14.6%}\".format(i, xl, f(xl), xu, f(xu), xr, f(xr), ea))\n",
    "\n",
    "    if f(xr) > 0:\n",
    "        xu = xr\n",
    "    elif f(xr) < 0:\n",
    "        xl = xr\n",
    "    else:\n",
    "        break\n",
    "\n",
    "    if ea < ea_lim:\n",
    "        break"
   ]
  }
 ],
 "metadata": {
  "kernelspec": {
   "display_name": "Python 3.10.6 64-bit (windows store)",
   "language": "python",
   "name": "python3"
  },
  "language_info": {
   "codemirror_mode": {
    "name": "ipython",
    "version": 3
   },
   "file_extension": ".py",
   "mimetype": "text/x-python",
   "name": "python",
   "nbconvert_exporter": "python",
   "pygments_lexer": "ipython3",
   "version": "3.10.6"
  },
  "orig_nbformat": 4,
  "vscode": {
   "interpreter": {
    "hash": "5a4acd54a6045e0a2c2ca2bee3a5071a0d005714e19b726bc563a6a4b53f8d5e"
   }
  }
 },
 "nbformat": 4,
 "nbformat_minor": 2
}
